{
 "cells": [
  {
   "cell_type": "code",
   "execution_count": 13,
   "metadata": {},
   "outputs": [
    {
     "name": "stdout",
     "output_type": "stream",
     "text": [
      "(1797, 64)\n"
     ]
    }
   ],
   "source": [
    "# K-Nearest Neighbor Classification\n",
    "from sklearn.model_selection import train_test_split\n",
    "from sklearn.neighbors import KNeighborsClassifier\n",
    "from sklearn.metrics import classification_report\n",
    "from sklearn.metrics import accuracy_score\n",
    "from sklearn.metrics import confusion_matrix\n",
    "from sklearn import datasets\n",
    "from time import time\n",
    "import numpy as np\n",
    "import pandas as pd\n",
    "import warnings\n",
    "warnings.filterwarnings('ignore')\n",
    "\n",
    "# load the MNIST digits dataset\n",
    "mnist = datasets.load_digits()\n",
    "X = pd.DataFrame(mnist.data)\n",
    "print (X.shape)"
   ]
  },
  {
   "cell_type": "code",
   "execution_count": 14,
   "metadata": {},
   "outputs": [],
   "source": [
    "# Training and testing split,\n",
    "(X_train, X_test, Y_train, Y_test) = train_test_split(np.array(mnist.data), mnist.target, test_size=0.25,random_state=42)\n",
    "\n",
    "# take 10% of the training data and use that for validation\n",
    "(X_train, valData, Y_train, valLabels) = train_test_split(X_train, Y_train, test_size=0.25, random_state=84)"
   ]
  },
  {
   "cell_type": "code",
   "execution_count": 15,
   "metadata": {},
   "outputs": [
    {
     "name": "stdout",
     "output_type": "stream",
     "text": [
      "k=1, accuracy=98.81%\n",
      "k=3, accuracy=98.22%\n",
      "k=5, accuracy=97.63%\n",
      "k=7, accuracy=97.63%\n",
      "k=9, accuracy=97.03%\n",
      "k=11, accuracy=97.63%\n",
      "k=13, accuracy=97.03%\n",
      "k=15, accuracy=97.03%\n",
      "k=17, accuracy=96.44%\n",
      "k=19, accuracy=96.14%\n",
      "k=21, accuracy=95.85%\n",
      "k=23, accuracy=95.55%\n",
      "k=25, accuracy=95.55%\n",
      "k=27, accuracy=94.96%\n",
      "k=29, accuracy=95.25%\n",
      "k=1 achieved highest accuracy of 98.81% on validation data\n",
      "training time: 0.00298 s\n",
      "predicting time: 0.04687 s\n",
      "Classification Report\n",
      "              precision    recall  f1-score   support\n",
      "\n",
      "           0       1.00      1.00      1.00        43\n",
      "           1       0.97      1.00      0.99        37\n",
      "           2       1.00      1.00      1.00        38\n",
      "           3       0.98      0.98      0.98        46\n",
      "           4       0.98      0.98      0.98        55\n",
      "           5       0.98      0.98      0.98        59\n",
      "           6       1.00      1.00      1.00        45\n",
      "           7       1.00      0.98      0.99        41\n",
      "           8       0.97      0.97      0.97        38\n",
      "           9       0.94      0.94      0.94        48\n",
      "\n",
      "   micro avg       0.98      0.98      0.98       450\n",
      "   macro avg       0.98      0.98      0.98       450\n",
      "weighted avg       0.98      0.98      0.98       450\n",
      "\n",
      "Overall Accuray\n",
      "98.22222222222223 %\n",
      "Confusion Matrix\n",
      "[[43  0  0  0  0  0  0  0  0  0]\n",
      " [ 0 37  0  0  0  0  0  0  0  0]\n",
      " [ 0  0 38  0  0  0  0  0  0  0]\n",
      " [ 0  0  0 45  0  0  0  0  1  0]\n",
      " [ 0  1  0  0 54  0  0  0  0  0]\n",
      " [ 0  0  0  0  0 58  0  0  0  1]\n",
      " [ 0  0  0  0  0  0 45  0  0  0]\n",
      " [ 0  0  0  0  0  0  0 40  0  1]\n",
      " [ 0  0  0  0  0  0  0  0 37  1]\n",
      " [ 0  0  0  1  1  1  0  0  0 45]]\n"
     ]
    }
   ],
   "source": [
    "kVals = range(1, 30, 2)\n",
    "accuracies = []\n",
    "for k in range(1, 30, 2):\n",
    "    # train the classifier with the current value of `k`\n",
    "    model = KNeighborsClassifier(n_neighbors=k)\n",
    "    model.fit(X_train, Y_train)\n",
    "\n",
    "    # evaluate the model and print the accuracies list\n",
    "    score = model.score(valData, valLabels)\n",
    "    print(\"k=%d, accuracy=%.2f%%\" % (k, score * 100))\n",
    "    accuracies.append(score)\n",
    "\n",
    "# largest accuracy\n",
    "# np.argmax returns the indices of the maximum values along an axis\n",
    "i = np.argmax(accuracies)\n",
    "print(\"k=%d achieved highest accuracy of %.2f%% on validation data\" % (kVals[i],\n",
    "    accuracies[i] * 100))\n",
    "\n",
    "\n",
    "# Now that I know the best value of k, re-train the classifier\n",
    "model = KNeighborsClassifier(n_neighbors=kVals[i])\n",
    "t0 = time()\n",
    "model.fit(X_train, Y_train)\n",
    "print(\"training time:\", round(time()-t0, 5), \"s\")\n",
    "# Predict labels for the test set\n",
    "t1 = time()\n",
    "predictions = model.predict(X_test)\n",
    "print(\"predicting time:\", round(time()-t1, 5), \"s\")\n",
    "# Evaluate performance of model for each of the digits\n",
    "print(\"Classification Report\")\n",
    "print(classification_report(Y_test, predictions))\n",
    "\n",
    "print(\"Overall Accuray\")\n",
    "print(accuracy_score(Y_test, predictions)*100,'%')\n",
    "\n",
    "print(\"Confusion Matrix\")\n",
    "print(confusion_matrix(Y_test, predictions))"
   ]
  },
  {
   "cell_type": "code",
   "execution_count": 8,
   "metadata": {},
   "outputs": [
    {
     "name": "stdout",
     "output_type": "stream",
     "text": [
      "training time: 0.001 s\n",
      "KNeighborsClassifier(algorithm='auto', leaf_size=30, metric='minkowski',\n",
      "           metric_params=None, n_jobs=None, n_neighbors=5, p=2,\n",
      "           weights='uniform')\n",
      "predicting time: 0.00299 s\n",
      "              precision    recall  f1-score   support\n",
      "\n",
      "           0       1.00      1.00      1.00        13\n",
      "           1       1.00      0.94      0.97        16\n",
      "           2       0.90      1.00      0.95         9\n",
      "\n",
      "   micro avg       0.97      0.97      0.97        38\n",
      "   macro avg       0.97      0.98      0.97        38\n",
      "weighted avg       0.98      0.97      0.97        38\n",
      "\n",
      "97.36842105263158 %\n",
      "Confusion Matrix\n",
      "[[13  0  0]\n",
      " [ 0 15  1]\n",
      " [ 0  0  9]]\n"
     ]
    }
   ],
   "source": [
    "# load iris the datasets\n",
    "load_iris_dataset = datasets.load_iris()\n",
    "# fit a k-nearest neighbor model to the data\n",
    "X_train, X_test, Y_train, Y_test = train_test_split(load_iris_dataset.data, load_iris_dataset.target, test_size=0.25\n",
    "                                                    , random_state=0)\n",
    "model = KNeighborsClassifier()\n",
    "t0 = time()\n",
    "model.fit(X_train,Y_train)\n",
    "print(\"training time:\", round(time()-t0, 5), \"s\")\n",
    "print(model)\n",
    "t1 = time()\n",
    "predicted = model.predict(X_test)\n",
    "print(\"predicting time:\", round(time()-t0, 5), \"s\")\n",
    "# summarize the fit of the model\n",
    "print(classification_report(Y_test, predicted))\n",
    "print(accuracy_score(Y_test, predicted)*100,'%')\n",
    "print(\"Confusion Matrix\")\n",
    "print(confusion_matrix(Y_test, predicted))"
   ]
  },
  {
   "cell_type": "code",
   "execution_count": 10,
   "metadata": {},
   "outputs": [
    {
     "name": "stdout",
     "output_type": "stream",
     "text": [
      "training time: 0.001 s\n",
      "KNeighborsClassifier(algorithm='auto', leaf_size=30, metric='minkowski',\n",
      "           metric_params=None, n_jobs=None, n_neighbors=5, p=2,\n",
      "           weights='uniform')\n",
      "predicting time: 0.00299 s\n",
      "              precision    recall  f1-score   support\n",
      "\n",
      "           0       0.82      0.88      0.85        16\n",
      "           1       0.81      0.81      0.81        21\n",
      "           2       0.29      0.25      0.27         8\n",
      "\n",
      "   micro avg       0.73      0.73      0.73        45\n",
      "   macro avg       0.64      0.64      0.64        45\n",
      "weighted avg       0.72      0.73      0.73        45\n",
      "\n",
      "73.33333333333333 %\n",
      "[[14  1  1]\n",
      " [ 0 17  4]\n",
      " [ 3  3  2]]\n"
     ]
    }
   ],
   "source": [
    "# load iris the datasets\n",
    "load_wine_dataset = datasets.load_wine()\n",
    "X_train, X_test, Y_train, Y_test = train_test_split(load_wine_dataset.data, load_wine_dataset.target, test_size=0.25\n",
    "                                                    , random_state=0)\n",
    "# fit a k-nearest neighbor model to the data\n",
    "model = KNeighborsClassifier()\n",
    "t0 = time()\n",
    "model.fit(X_train,Y_train)\n",
    "print(\"training time:\", round(time()-t0, 5), \"s\")\n",
    "print(model)\n",
    "t1 = time()\n",
    "predicted = model.predict(X_test)\n",
    "print(\"predicting time:\", round(time()-t0, 5), \"s\")\n",
    "# summarize the fit of the model\n",
    "print(classification_report(Y_test, predicted))\n",
    "print(accuracy_score(Y_test, predicted)*100,'%')\n",
    "print(confusion_matrix(Y_test, predicted))"
   ]
  },
  {
   "cell_type": "code",
   "execution_count": 11,
   "metadata": {},
   "outputs": [
    {
     "name": "stdout",
     "output_type": "stream",
     "text": [
      "training time: 0.001 s\n",
      "KNeighborsClassifier(algorithm='auto', leaf_size=30, metric='minkowski',\n",
      "           metric_params=None, n_jobs=None, n_neighbors=5, p=2,\n",
      "           weights='uniform')\n",
      "predicting time: 0.00399 s\n",
      "              precision    recall  f1-score   support\n",
      "\n",
      "           0       0.91      0.92      0.92        53\n",
      "           1       0.96      0.94      0.95        90\n",
      "\n",
      "   micro avg       0.94      0.94      0.94       143\n",
      "   macro avg       0.93      0.93      0.93       143\n",
      "weighted avg       0.94      0.94      0.94       143\n",
      "\n",
      "93.7062937062937 %\n",
      "[[49  4]\n",
      " [ 5 85]]\n"
     ]
    }
   ],
   "source": [
    "# load iris the datasets\n",
    "dataset_breast_cancer = datasets.load_breast_cancer()\n",
    "X_train, X_test, Y_train, Y_test = train_test_split(dataset_breast_cancer.data, dataset_breast_cancer.target, test_size=0.25\n",
    "                                                    , random_state=0)\n",
    "# fit a k-nearest neighbor model to the data\n",
    "model = KNeighborsClassifier()\n",
    "t0 = time()\n",
    "model.fit(X_train,Y_train)\n",
    "print(\"training time:\", round(time()-t0, 5), \"s\")\n",
    "print(model)\n",
    "# make predictions\n",
    "t1 = time()\n",
    "predicted = model.predict(X_test)\n",
    "print(\"predicting time:\", round(time()-t0, 5), \"s\")\n",
    "# summarize the fit of the model\n",
    "print(classification_report(Y_test, predicted))\n",
    "print(accuracy_score(Y_test, predicted)*100,'%')\n",
    "print(confusion_matrix(Y_test, predicted))"
   ]
  },
  {
   "cell_type": "code",
   "execution_count": null,
   "metadata": {},
   "outputs": [],
   "source": []
  }
 ],
 "metadata": {
  "kernelspec": {
   "display_name": "Python 3",
   "language": "python",
   "name": "python3"
  },
  "language_info": {
   "codemirror_mode": {
    "name": "ipython",
    "version": 3
   },
   "file_extension": ".py",
   "mimetype": "text/x-python",
   "name": "python",
   "nbconvert_exporter": "python",
   "pygments_lexer": "ipython3",
   "version": "3.7.0"
  }
 },
 "nbformat": 4,
 "nbformat_minor": 2
}
