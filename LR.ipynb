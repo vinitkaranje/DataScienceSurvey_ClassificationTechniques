{
 "cells": [
  {
   "cell_type": "code",
   "execution_count": 1,
   "metadata": {},
   "outputs": [],
   "source": [
    "import numpy as np\n",
    "from mnist import MNIST\n",
    "from time import time\n",
    "import pandas as pd\n",
    "import os\n",
    "from random import randint\n",
    "import matplotlib.pyplot as plt\n",
    "from itertools import chain\n",
    "from sklearn import datasets\n",
    "from sklearn.metrics import classification_report\n",
    "from sklearn.metrics import accuracy_score\n",
    "from sklearn.metrics import confusion_matrix\n",
    "from sklearn.linear_model import LogisticRegression\n",
    "import warnings\n",
    "warnings.filterwarnings('ignore')"
   ]
  },
  {
   "cell_type": "code",
   "execution_count": 2,
   "metadata": {},
   "outputs": [],
   "source": [
    "# load the MNIST digits dataset\n",
    "mnist = datasets.load_digits()"
   ]
  },
  {
   "cell_type": "code",
   "execution_count": 3,
   "metadata": {},
   "outputs": [
    {
     "name": "stdout",
     "output_type": "stream",
     "text": [
      "Image Data Shape (1797, 64)\n"
     ]
    }
   ],
   "source": [
    "# Print to show there are 1797 images\n",
    "print(\"Image Data Shape\" , mnist.data.shape)"
   ]
  },
  {
   "cell_type": "code",
   "execution_count": 4,
   "metadata": {},
   "outputs": [],
   "source": [
    "from sklearn.model_selection import train_test_split\n",
    "X_train, X_test, Y_train, Y_test = train_test_split(mnist.data, mnist.target, test_size=0.25, random_state=0)"
   ]
  },
  {
   "cell_type": "code",
   "execution_count": 5,
   "metadata": {},
   "outputs": [
    {
     "name": "stdout",
     "output_type": "stream",
     "text": [
      "training time: 0.24096 s\n",
      "predicting time: 0.0 s\n",
      "Classification Report\n",
      "              precision    recall  f1-score   support\n",
      "\n",
      "           0       0.97      1.00      0.99        37\n",
      "           1       0.84      0.86      0.85        43\n",
      "           2       0.95      0.91      0.93        44\n",
      "           3       0.90      0.96      0.92        45\n",
      "           4       0.97      0.97      0.97        38\n",
      "           5       0.98      0.98      0.98        48\n",
      "           6       0.96      0.98      0.97        52\n",
      "           7       0.98      0.94      0.96        48\n",
      "           8       0.91      0.88      0.89        48\n",
      "           9       0.94      0.94      0.94        47\n",
      "\n",
      "   micro avg       0.94      0.94      0.94       450\n",
      "   macro avg       0.94      0.94      0.94       450\n",
      "weighted avg       0.94      0.94      0.94       450\n",
      "\n",
      "Overall Accuray\n",
      "94.0 %\n"
     ]
    }
   ],
   "source": [
    "# all parameters not specified are set to their defaults\n",
    "# default solver is incredibly slow thats why we change it\n",
    "logisticRegr = LogisticRegression(solver = 'lbfgs')\n",
    "t0 = time()\n",
    "logisticRegr.fit(X_train, Y_train)\n",
    "print(\"training time:\", round(time()-t0, 5), \"s\")\n",
    "# Predict labels for the test set\n",
    "t1 = time()\n",
    "predictions = logisticRegr.predict(X_test)\n",
    "print(\"predicting time:\", round(time()-t1, 5), \"s\")\n",
    "# Evaluate performance of model for each of the digits\n",
    "print(\"Classification Report\")\n",
    "print(classification_report(Y_test, predictions))\n",
    "\n",
    "print(\"Overall Accuray\")\n",
    "print(accuracy_score(Y_test, predictions)*100,'%')"
   ]
  },
  {
   "cell_type": "code",
   "execution_count": 21,
   "metadata": {},
   "outputs": [
    {
     "name": "stdout",
     "output_type": "stream",
     "text": [
      "LogisticRegression(C=1.0, class_weight=None, dual=False, fit_intercept=True,\n",
      "          intercept_scaling=1, max_iter=100, multi_class='warn',\n",
      "          n_jobs=None, penalty='l2', random_state=None, solver='warn',\n",
      "          tol=0.0001, verbose=0, warm_start=False)\n",
      "              precision    recall  f1-score   support\n",
      "\n",
      "           0       1.00      1.00      1.00        13\n",
      "           1       1.00      0.69      0.81        16\n",
      "           2       0.64      1.00      0.78         9\n",
      "\n",
      "   micro avg       0.87      0.87      0.87        38\n",
      "   macro avg       0.88      0.90      0.87        38\n",
      "weighted avg       0.92      0.87      0.87        38\n",
      "\n",
      "86.8421052631579 %\n"
     ]
    }
   ],
   "source": [
    "# load the iris datasets\n",
    "dataset_load_iris = datasets.load_iris()\n",
    "X_train, X_test, Y_train, Y_test = train_test_split(dataset_load_iris.data, dataset_load_iris.target, test_size=0.25\n",
    "                                                    , random_state=0)\n",
    "# fit a logistic regression model to the data\n",
    "model = LogisticRegression()\n",
    "model.fit(X_train, Y_train)\n",
    "print(model)\n",
    "# make predictions\n",
    "predicted = model.predict(X_test)\n",
    "# summarize the fit of the model\n",
    "print(classification_report(Y_test, predicted))\n",
    "print(accuracy_score(Y_test, predicted)*100,'%')"
   ]
  },
  {
   "cell_type": "code",
   "execution_count": 22,
   "metadata": {},
   "outputs": [
    {
     "name": "stdout",
     "output_type": "stream",
     "text": [
      "LogisticRegression(C=1.0, class_weight=None, dual=False, fit_intercept=True,\n",
      "          intercept_scaling=1, max_iter=100, multi_class='warn',\n",
      "          n_jobs=None, penalty='l2', random_state=None, solver='warn',\n",
      "          tol=0.0001, verbose=0, warm_start=False)\n",
      "              precision    recall  f1-score   support\n",
      "\n",
      "           0       1.00      0.88      0.93        16\n",
      "           1       0.91      0.95      0.93        21\n",
      "           2       0.89      1.00      0.94         8\n",
      "\n",
      "   micro avg       0.93      0.93      0.93        45\n",
      "   macro avg       0.93      0.94      0.93        45\n",
      "weighted avg       0.94      0.93      0.93        45\n",
      "\n",
      "93.33333333333333 %\n",
      "[[14  2  0]\n",
      " [ 0 20  1]\n",
      " [ 0  0  8]]\n"
     ]
    }
   ],
   "source": [
    "\n",
    "dataset_load_wine = datasets.load_wine()\n",
    "X_train, X_test, Y_train, Y_test = train_test_split(dataset_load_wine.data, dataset_load_wine.target, test_size=0.25\n",
    "                                                    , random_state=0)\n",
    "# fit a logistic regression model to the data\n",
    "model = LogisticRegression()\n",
    "model.fit(X_train, Y_train)\n",
    "print(model)\n",
    "# make predictions\n",
    "predicted = model.predict(X_test)\n",
    "# summarize the fit of the model\n",
    "print(classification_report(Y_test, predicted))\n",
    "print(accuracy_score(Y_test, predicted)*100,'%')\n",
    "print(confusion_matrix(Y_test, predicted))"
   ]
  },
  {
   "cell_type": "code",
   "execution_count": 23,
   "metadata": {},
   "outputs": [
    {
     "name": "stdout",
     "output_type": "stream",
     "text": [
      "LogisticRegression(C=1.0, class_weight=None, dual=False, fit_intercept=True,\n",
      "          intercept_scaling=1, max_iter=100, multi_class='warn',\n",
      "          n_jobs=None, penalty='l2', random_state=None, solver='warn',\n",
      "          tol=0.0001, verbose=0, warm_start=False)\n",
      "              precision    recall  f1-score   support\n",
      "\n",
      "           0       0.91      0.98      0.95        53\n",
      "           1       0.99      0.94      0.97        90\n",
      "\n",
      "   micro avg       0.96      0.96      0.96       143\n",
      "   macro avg       0.95      0.96      0.96       143\n",
      "weighted avg       0.96      0.96      0.96       143\n",
      "\n",
      "95.8041958041958 %\n",
      "[[52  1]\n",
      " [ 5 85]]\n"
     ]
    }
   ],
   "source": [
    "\n",
    "dataset_breast_cancer = datasets.load_breast_cancer()\n",
    "X_train, X_test, Y_train, Y_test = train_test_split(dataset_breast_cancer.data, dataset_breast_cancer.target, test_size=0.25\n",
    "                                                    , random_state=0)\n",
    "# fit a logistic regression model to the data\n",
    "model = LogisticRegression()\n",
    "model.fit(X_train,Y_train)\n",
    "print(model)\n",
    "# make predictions\n",
    "predicted = model.predict(X_test)\n",
    "# summarize the fit of the model\n",
    "print(classification_report(Y_test, predicted))\n",
    "print(accuracy_score(Y_test, predicted)*100,'%')\n",
    "print(confusion_matrix(Y_test, predicted))"
   ]
  },
  {
   "cell_type": "code",
   "execution_count": 24,
   "metadata": {},
   "outputs": [
    {
     "name": "stdout",
     "output_type": "stream",
     "text": [
      "(150, 4)\n",
      "(178, 13)\n",
      "(569, 30)\n",
      "(1797, 64)\n"
     ]
    }
   ],
   "source": [
    "print(dataset_load_iris.data.shape)\n",
    "print(dataset_load_wine.data.shape)\n",
    "print(dataset_breast_cancer.data.shape)\n",
    "print(mnist.data.shape)"
   ]
  },
  {
   "cell_type": "code",
   "execution_count": 27,
   "metadata": {},
   "outputs": [
    {
     "data": {
      "image/png": "[encoded data removed]",
      "text/plain": [
       "<Figure size 432x288 with 1 Axes>"
      ]
     },
     "metadata": {
      "needs_background": "light"
     },
     "output_type": "display_data"
    },
    {
     "data": {
      "text/plain": [
       "<Figure size 1080x1080 with 0 Axes>"
      ]
     },
     "metadata": {},
     "output_type": "display_data"
    }
   ],
   "source": [
    "number_Of_Attributes = [4,13,30,64]\n",
    "accuracyNB = [100,100,95.8,91.5]\n",
    "accuracyLR = [86.84,93.33,95.80,94]\n",
    "accuracyKNN = [97.36,73.33,93.70,98.22]\n",
    "accuracySVM = [97.36,68.88,95.10,98.66]\n",
    "accuracyDecisionTree = [97.36,95.55,88.81,86.88]\n",
    "y = [accuracyNB, accuracyLR, accuracyKNN, accuracySVM, accuracyDecisionTree]\n",
    "labels = ['Naive Bayes', 'Logistic Regression', 'KNN', 'SVM', 'Decision Tree']\n",
    "\n",
    "for y_arr, label in zip(y, labels):\n",
    "    plt.plot(number_Of_Attributes, y_arr,label=label)\n",
    "\n",
    "plt.xlabel('Number of Attributes')\n",
    "plt.ylabel('Accuracy Percentage')\n",
    "plt.legend()\n",
    "plt.figure(figsize = (15, 15))\n",
    "plt.show()"
   ]
  },
  {
   "cell_type": "code",
   "execution_count": null,
   "metadata": {},
   "outputs": [],
   "source": []
  }
 ],
 "metadata": {
  "kernelspec": {
   "display_name": "Python 3",
   "language": "python",
   "name": "python3"
  },
  "language_info": {
   "codemirror_mode": {
    "name": "ipython",
    "version": 3
   },
   "file_extension": ".py",
   "mimetype": "text/x-python",
   "name": "python",
   "nbconvert_exporter": "python",
   "pygments_lexer": "ipython3",
   "version": "3.7.0"
  }
 },
 "nbformat": 4,
 "nbformat_minor": 2
}
