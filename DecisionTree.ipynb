{
 "cells": [
  {
   "cell_type": "code",
   "execution_count": 15,
   "metadata": {},
   "outputs": [
    {
     "name": "stdout",
     "output_type": "stream",
     "text": [
      "(1797, 64)\n"
     ]
    }
   ],
   "source": [
    "import numpy as np\n",
    "from mnist import MNIST\n",
    "from time import time\n",
    "import pandas as pd\n",
    "import os\n",
    "from random import randint\n",
    "import matplotlib.pyplot as plt\n",
    "from sklearn.metrics import confusion_matrix\n",
    "from sklearn.model_selection import train_test_split\n",
    "from sklearn.metrics import classification_report\n",
    "from sklearn.metrics import accuracy_score\n",
    "from sklearn import datasets\n",
    "from sklearn import tree\n",
    "import numpy as np\n",
    "import pandas as pd\n",
    "import warnings\n",
    "warnings.filterwarnings('ignore')\n",
    "\n",
    "# load the MNIST digits dataset\n",
    "mnist = datasets.load_digits()\n",
    "X = pd.DataFrame(mnist.data)\n",
    "print (X.shape)"
   ]
  },
  {
   "cell_type": "code",
   "execution_count": 16,
   "metadata": {},
   "outputs": [
    {
     "name": "stdout",
     "output_type": "stream",
     "text": [
      "1347\n",
      "(1797, 64)\n"
     ]
    }
   ],
   "source": [
    "# Split the data into training and test data\n",
    "x_train, x_test, y_train, y_test = train_test_split(mnist.data, mnist.target, test_size=0.25, random_state=42)\n",
    "print(len(x_train))\n",
    "print(mnist.data.shape)"
   ]
  },
  {
   "cell_type": "code",
   "execution_count": 17,
   "metadata": {},
   "outputs": [
    {
     "name": "stdout",
     "output_type": "stream",
     "text": [
      "training time: 0.017 s\n",
      "DecisionTreeClassifier(class_weight=None, criterion='gini', max_depth=None,\n",
      "            max_features=None, max_leaf_nodes=None,\n",
      "            min_impurity_decrease=0.0, min_impurity_split=None,\n",
      "            min_samples_leaf=1, min_samples_split=2,\n",
      "            min_weight_fraction_leaf=0.0, presort=False, random_state=None,\n",
      "            splitter='best')\n",
      "predicting time: 0.001 s\n",
      "Classification Report\n",
      "              precision    recall  f1-score   support\n",
      "\n",
      "           0       0.97      0.91      0.94        43\n",
      "           1       0.89      0.84      0.86        37\n",
      "           2       0.86      0.82      0.84        38\n",
      "           3       0.79      0.80      0.80        46\n",
      "           4       0.86      0.93      0.89        55\n",
      "           5       0.91      0.83      0.87        59\n",
      "           6       0.96      0.98      0.97        45\n",
      "           7       0.85      0.95      0.90        41\n",
      "           8       0.69      0.66      0.68        38\n",
      "           9       0.88      0.94      0.91        48\n",
      "\n",
      "   micro avg       0.87      0.87      0.87       450\n",
      "   macro avg       0.87      0.86      0.86       450\n",
      "weighted avg       0.87      0.87      0.87       450\n",
      "\n",
      "Overall Accuray\n",
      "86.8888888888889 %\n"
     ]
    }
   ],
   "source": [
    "clf = tree.DecisionTreeClassifier()\n",
    "t0 = time()\n",
    "clf = clf.fit(x_train, y_train)\n",
    "print(\"training time:\", round(time()-t0, 3), \"s\")\n",
    "print(clf)\n",
    "t1 = time()\n",
    "predictions = clf.predict(x_test)\n",
    "print(\"predicting time:\", round(time()-t1, 3), \"s\")\n",
    "print(\"Classification Report\")\n",
    "print(classification_report(y_test, predictions))\n",
    "print(\"Overall Accuray\")\n",
    "print(accuracy_score(y_test, predictions)*100,'%')"
   ]
  },
  {
   "cell_type": "code",
   "execution_count": 23,
   "metadata": {},
   "outputs": [
    {
     "name": "stdout",
     "output_type": "stream",
     "text": [
      "training time: 0.0 s\n",
      "DecisionTreeClassifier(class_weight=None, criterion='gini', max_depth=None,\n",
      "            max_features=None, max_leaf_nodes=None,\n",
      "            min_impurity_decrease=0.0, min_impurity_split=None,\n",
      "            min_samples_leaf=1, min_samples_split=2,\n",
      "            min_weight_fraction_leaf=0.0, presort=False, random_state=None,\n",
      "            splitter='best')\n",
      "prediction time: 0.0 s\n",
      "              precision    recall  f1-score   support\n",
      "\n",
      "           0       1.00      1.00      1.00        13\n",
      "           1       1.00      0.94      0.97        16\n",
      "           2       0.90      1.00      0.95         9\n",
      "\n",
      "   micro avg       0.97      0.97      0.97        38\n",
      "   macro avg       0.97      0.98      0.97        38\n",
      "weighted avg       0.98      0.97      0.97        38\n",
      "\n",
      "97.36842105263158\n"
     ]
    }
   ],
   "source": [
    "# load the iris datasets\n",
    "load_iris_dataset = datasets.load_iris()\n",
    "X_train, X_test, Y_train, Y_test = train_test_split(load_iris_dataset.data, load_iris_dataset.target, test_size=0.25\n",
    "                                                    , random_state=1)\n",
    "# fit a CART model to the data\n",
    "model = tree.DecisionTreeClassifier()\n",
    "t0 = time()\n",
    "model.fit(X_train,Y_train)\n",
    "print(\"training time:\", round(time()-t0, 3), \"s\")\n",
    "print(model)\n",
    "t1 = time()\n",
    "predicted = model.predict(X_test)\n",
    "print(\"prediction time:\", round(time()-t1, 3), \"s\")\n",
    "# summarize the fit of the model\n",
    "print(classification_report(Y_test, predicted))\n",
    "print(accuracy_score(Y_test, predicted)*100)"
   ]
  },
  {
   "cell_type": "code",
   "execution_count": 24,
   "metadata": {},
   "outputs": [
    {
     "name": "stdout",
     "output_type": "stream",
     "text": [
      "training time: 0.001 s\n",
      "DecisionTreeClassifier(class_weight=None, criterion='gini', max_depth=None,\n",
      "            max_features=None, max_leaf_nodes=None,\n",
      "            min_impurity_decrease=0.0, min_impurity_split=None,\n",
      "            min_samples_leaf=1, min_samples_split=2,\n",
      "            min_weight_fraction_leaf=0.0, presort=False, random_state=None,\n",
      "            splitter='best')\n",
      "prediction time: 0.001 s\n",
      "              precision    recall  f1-score   support\n",
      "\n",
      "           0       1.00      0.94      0.97        16\n",
      "           1       0.95      0.95      0.95        21\n",
      "           2       0.89      1.00      0.94         8\n",
      "\n",
      "   micro avg       0.96      0.96      0.96        45\n",
      "   macro avg       0.95      0.96      0.95        45\n",
      "weighted avg       0.96      0.96      0.96        45\n",
      "\n",
      "95.55555555555556\n",
      "[[15  1  0]\n",
      " [ 0 20  1]\n",
      " [ 0  0  8]]\n"
     ]
    }
   ],
   "source": [
    "load_wine_dataset = datasets.load_wine()\n",
    "X_train, X_test, Y_train, Y_test = train_test_split(load_wine_dataset.data, load_wine_dataset.target, test_size=0.25\n",
    "                                                    , random_state=0)\n",
    "# fit a CART model to the data\n",
    "model = tree.DecisionTreeClassifier()\n",
    "t0 = time()\n",
    "model.fit(X_train,Y_train)\n",
    "print(\"training time:\", round(time()-t0, 3), \"s\")\n",
    "print(model)\n",
    "t1 = time()\n",
    "predicted = model.predict(X_test)\n",
    "print(\"prediction time:\", round(time()-t1, 3), \"s\")\n",
    "# summarize the fit of the model\n",
    "print(classification_report(Y_test, predicted))\n",
    "print(accuracy_score(Y_test, predicted)*100)\n",
    "print(confusion_matrix(Y_test, predicted))"
   ]
  },
  {
   "cell_type": "code",
   "execution_count": 20,
   "metadata": {},
   "outputs": [
    {
     "name": "stdout",
     "output_type": "stream",
     "text": [
      "training time: 0.005 s\n",
      "DecisionTreeClassifier(class_weight=None, criterion='gini', max_depth=None,\n",
      "            max_features=None, max_leaf_nodes=None,\n",
      "            min_impurity_decrease=0.0, min_impurity_split=None,\n",
      "            min_samples_leaf=1, min_samples_split=2,\n",
      "            min_weight_fraction_leaf=0.0, presort=False, random_state=None,\n",
      "            splitter='best')\n",
      "prediction time: 0.0 s\n",
      "              precision    recall  f1-score   support\n",
      "\n",
      "           0       0.78      0.96      0.86        53\n",
      "           1       0.97      0.84      0.90        90\n",
      "\n",
      "   micro avg       0.89      0.89      0.89       143\n",
      "   macro avg       0.88      0.90      0.88       143\n",
      "weighted avg       0.90      0.89      0.89       143\n",
      "\n",
      "88.81118881118881\n",
      "[[51  2]\n",
      " [14 76]]\n"
     ]
    }
   ],
   "source": [
    "# load the iris datasets\n",
    "dataset_breast_cancer = datasets.load_breast_cancer()\n",
    "X_train, X_test, Y_train, Y_test = train_test_split(dataset_breast_cancer.data, dataset_breast_cancer.target, test_size=0.25\n",
    "                                                    , random_state=0)\n",
    "# fit a CART model to the data\n",
    "model = tree.DecisionTreeClassifier()\n",
    "t0 = time()\n",
    "model.fit(X_train,Y_train)\n",
    "print(\"training time:\", round(time()-t0, 3), \"s\")\n",
    "print(model)\n",
    "\n",
    "t1 = time()\n",
    "predicted = model.predict(X_test)\n",
    "print(\"prediction time:\", round(time()-t1, 3), \"s\")\n",
    "# summarize the fit of the model\n",
    "print(classification_report(Y_test, predicted))\n",
    "print(accuracy_score(Y_test, predicted)*100)\n",
    "print(confusion_matrix(Y_test, predicted))"
   ]
  },
  {
   "cell_type": "code",
   "execution_count": null,
   "metadata": {},
   "outputs": [],
   "source": []
  }
 ],
 "metadata": {
  "kernelspec": {
   "display_name": "Python 3",
   "language": "python",
   "name": "python3"
  },
  "language_info": {
   "codemirror_mode": {
    "name": "ipython",
    "version": 3
   },
   "file_extension": ".py",
   "mimetype": "text/x-python",
   "name": "python",
   "nbconvert_exporter": "python",
   "pygments_lexer": "ipython3",
   "version": "3.7.0"
  }
 },
 "nbformat": 4,
 "nbformat_minor": 2
}
