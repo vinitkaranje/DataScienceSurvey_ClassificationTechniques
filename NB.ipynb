{
 "cells": [
  {
   "cell_type": "code",
   "execution_count": 1,
   "metadata": {},
   "outputs": [],
   "source": [
    "import numpy as np\n",
    "from mnist import MNIST\n",
    "from time import time\n",
    "import pandas as pd\n",
    "import os\n",
    "from random import randint\n",
    "import matplotlib.pyplot as plt\n",
    "from sklearn.metrics import confusion_matrix\n",
    "from sklearn.model_selection import train_test_split\n",
    "from sklearn import datasets"
   ]
  },
  {
   "cell_type": "code",
   "execution_count": 2,
   "metadata": {},
   "outputs": [],
   "source": [
    "# load the MNIST digits dataset\n",
    "mnist = datasets.load_digits()"
   ]
  },
  {
   "cell_type": "code",
   "execution_count": 3,
   "metadata": {},
   "outputs": [
    {
     "name": "stdout",
     "output_type": "stream",
     "text": [
      "1347\n",
      "(1797, 64)\n"
     ]
    }
   ],
   "source": [
    "# Split the data into training and test data\n",
    "x_train, x_test, y_train, y_test = train_test_split(mnist.data, mnist.target, test_size=0.25, random_state=42)\n",
    "print(len(x_train))\n",
    "print(mnist.data.shape)"
   ]
  },
  {
   "cell_type": "code",
   "execution_count": 4,
   "metadata": {},
   "outputs": [
    {
     "name": "stdout",
     "output_type": "stream",
     "text": [
      "training time: 0.02592 s\n",
      "predicting time: 0.0 s\n",
      "Accuracy = 91.55555555555556 %\n",
      "Classification Report \n",
      "               precision    recall  f1-score   support\n",
      "\n",
      "           0       1.00      0.98      0.99        43\n",
      "           1       0.90      0.73      0.81        37\n",
      "           2       0.85      0.92      0.89        38\n",
      "           3       1.00      0.89      0.94        46\n",
      "           4       0.95      1.00      0.97        55\n",
      "           5       0.96      0.86      0.91        59\n",
      "           6       0.98      0.96      0.97        45\n",
      "           7       0.93      1.00      0.96        41\n",
      "           8       0.78      0.95      0.86        38\n",
      "           9       0.80      0.85      0.83        48\n",
      "\n",
      "   micro avg       0.92      0.92      0.92       450\n",
      "   macro avg       0.92      0.91      0.91       450\n",
      "weighted avg       0.92      0.92      0.92       450\n",
      "\n"
     ]
    }
   ],
   "source": [
    "# Create the Multinomial Naive Bayes Classifier\n",
    "from sklearn.naive_bayes import MultinomialNB\n",
    "clf = MultinomialNB()\n",
    "# Perform the predictions\n",
    "t0 = time()\n",
    "clf.fit(x_train,y_train)\n",
    "print(\"training time:\", round(time()-t0, 5), \"s\")\n",
    "# Perform the predictions\n",
    "t1 = time()\n",
    "y_predicted = clf.predict(x_test)\n",
    "print(\"predicting time:\", round(time()-t1, 5), \"s\")\n",
    "# Calculate the accuracy of the prediction\n",
    "from sklearn.metrics import accuracy_score\n",
    "print (\"Accuracy = {} %\".format(accuracy_score(y_test, y_predicted)*100))\n",
    "# Cross validate the scores\n",
    "from sklearn.metrics import classification_report\n",
    "print (\"Classification Report \\n {}\".format(classification_report(y_test, y_predicted, labels=range(0,10))))"
   ]
  },
  {
   "cell_type": "code",
   "execution_count": 9,
   "metadata": {},
   "outputs": [
    {
     "name": "stdout",
     "output_type": "stream",
     "text": [
      "GaussianNB(priors=None, var_smoothing=1e-09)\n",
      "              precision    recall  f1-score   support\n",
      "\n",
      "           0       1.00      1.00      1.00        15\n",
      "           1       1.00      1.00      1.00        11\n",
      "           2       1.00      1.00      1.00        12\n",
      "\n",
      "   micro avg       1.00      1.00      1.00        38\n",
      "   macro avg       1.00      1.00      1.00        38\n",
      "weighted avg       1.00      1.00      1.00        38\n",
      "\n",
      "100.0 %\n"
     ]
    }
   ],
   "source": [
    "from sklearn.naive_bayes import GaussianNB\n",
    "# load the iris datasets\n",
    "load_iris_dataset = datasets.load_iris()\n",
    "x_train, x_test, y_train, y_test = train_test_split(load_iris_dataset.data, load_iris_dataset.target, test_size=0.25, random_state=42)\n",
    "# fit a Naive Bayes model to the data\n",
    "model = GaussianNB()\n",
    "model.fit(x_train, y_train)\n",
    "print(model)\n",
    "# make predictions\n",
    "predicted = model.predict(x_test)\n",
    "# summarize the fit of the model\n",
    "print(classification_report(y_test, predicted))\n",
    "print(accuracy_score(y_test, predicted)*100,'%')"
   ]
  },
  {
   "cell_type": "code",
   "execution_count": 10,
   "metadata": {},
   "outputs": [
    {
     "name": "stdout",
     "output_type": "stream",
     "text": [
      "GaussianNB(priors=None, var_smoothing=1e-09)\n",
      "              precision    recall  f1-score   support\n",
      "\n",
      "           0       1.00      1.00      1.00        15\n",
      "           1       1.00      1.00      1.00        18\n",
      "           2       1.00      1.00      1.00        12\n",
      "\n",
      "   micro avg       1.00      1.00      1.00        45\n",
      "   macro avg       1.00      1.00      1.00        45\n",
      "weighted avg       1.00      1.00      1.00        45\n",
      "\n",
      "100.0 %\n",
      "[[15  0  0]\n",
      " [ 0 18  0]\n",
      " [ 0  0 12]]\n"
     ]
    }
   ],
   "source": [
    "from sklearn.naive_bayes import GaussianNB\n",
    "load_wine_dataset = datasets.load_wine()\n",
    "x_train, x_test, y_train, y_test = train_test_split(load_wine_dataset.data, load_wine_dataset.target, test_size=0.25, random_state=42)\n",
    "# fit a Naive Bayes model to the data\n",
    "model = GaussianNB()\n",
    "model.fit(x_train,y_train)\n",
    "print(model)\n",
    "# make predictions\n",
    "expected = dataset.target\n",
    "predicted = model.predict(x_test)\n",
    "# summarize the fit of the model\n",
    "print(classification_report(y_test, predicted))\n",
    "print(accuracy_score(y_test, predicted)*100,'%')\n",
    "print(confusion_matrix(y_test, predicted))"
   ]
  },
  {
   "cell_type": "code",
   "execution_count": 11,
   "metadata": {},
   "outputs": [
    {
     "name": "stdout",
     "output_type": "stream",
     "text": [
      "GaussianNB(priors=None, var_smoothing=1e-09)\n",
      "              precision    recall  f1-score   support\n",
      "\n",
      "           0       0.94      0.94      0.94        54\n",
      "           1       0.97      0.97      0.97        89\n",
      "\n",
      "   micro avg       0.96      0.96      0.96       143\n",
      "   macro avg       0.96      0.96      0.96       143\n",
      "weighted avg       0.96      0.96      0.96       143\n",
      "\n",
      "95.8041958041958 %\n",
      "[[51  3]\n",
      " [ 3 86]]\n"
     ]
    }
   ],
   "source": [
    "from sklearn.naive_bayes import GaussianNB\n",
    "# load the iris datasets\n",
    "load_breast_cancer_dataset = datasets.load_breast_cancer()\n",
    "x_train, x_test, y_train, y_test = train_test_split(load_breast_cancer_dataset.data, load_breast_cancer_dataset.target, test_size=0.25, random_state=42)\n",
    "# fit a Naive Bayes model to the data\n",
    "model = GaussianNB()\n",
    "model.fit(x_train,y_train)\n",
    "print(model)\n",
    "# make predictions\n",
    "predicted = model.predict(x_test)\n",
    "# summarize the fit of the model\n",
    "print(classification_report(y_test, predicted))\n",
    "print(accuracy_score(y_test, predicted)*100,'%')\n",
    "print(confusion_matrix(y_test, predicted))"
   ]
  },
  {
   "cell_type": "code",
   "execution_count": null,
   "metadata": {},
   "outputs": [],
   "source": []
  }
 ],
 "metadata": {
  "kernelspec": {
   "display_name": "Python 3",
   "language": "python",
   "name": "python3"
  },
  "language_info": {
   "codemirror_mode": {
    "name": "ipython",
    "version": 3
   },
   "file_extension": ".py",
   "mimetype": "text/x-python",
   "name": "python",
   "nbconvert_exporter": "python",
   "pygments_lexer": "ipython3",
   "version": "3.7.0"
  }
 },
 "nbformat": 4,
 "nbformat_minor": 2
}
