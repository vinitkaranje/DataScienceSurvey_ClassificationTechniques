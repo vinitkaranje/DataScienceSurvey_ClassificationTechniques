{
 "cells": [
  {
   "cell_type": "code",
   "execution_count": 28,
   "metadata": {},
   "outputs": [
    {
     "name": "stdout",
     "output_type": "stream",
     "text": [
      "(1797, 64)\n"
     ]
    }
   ],
   "source": [
    "import numpy as np\n",
    "from mnist import MNIST\n",
    "from time import time\n",
    "import pandas as pd\n",
    "import os\n",
    "from random import randint\n",
    "import matplotlib.pyplot as plt\n",
    "from sklearn.metrics import confusion_matrix\n",
    "from sklearn.model_selection import train_test_split\n",
    "from sklearn.metrics import classification_report\n",
    "from sklearn.metrics import accuracy_score\n",
    "from sklearn import datasets\n",
    "from sklearn.svm import SVC\n",
    "import numpy as np\n",
    "import pandas as pd\n",
    "import warnings\n",
    "warnings.filterwarnings('ignore')\n",
    "\n",
    "# load the MNIST digits dataset\n",
    "mnist = datasets.load_digits()\n",
    "X = pd.DataFrame(mnist.data)\n",
    "print (X.shape)"
   ]
  },
  {
   "cell_type": "code",
   "execution_count": 29,
   "metadata": {},
   "outputs": [
    {
     "name": "stdout",
     "output_type": "stream",
     "text": [
      "1347\n",
      "[[ 0.  0.  0. ... 14.  5.  0.]\n",
      " [ 0.  0. 11. ...  1.  0.  0.]\n",
      " [ 0.  0.  8. ...  8.  0.  0.]\n",
      " ...\n",
      " [ 0.  1. 13. ... 12.  5.  0.]\n",
      " [ 0.  0.  0. ...  5.  0.  0.]\n",
      " [ 0.  6. 16. ...  0.  0.  0.]]\n",
      "450\n",
      "(1797, 64)\n"
     ]
    }
   ],
   "source": [
    "# Split the data into training and test data\n",
    "x_train, x_test, y_train, y_test = train_test_split(mnist.data, mnist.target, test_size=0.25, random_state=42)\n",
    "print(len(x_train))\n",
    "print(x_test)\n",
    "print(len(y_test))\n",
    "print(mnist.data.shape)"
   ]
  },
  {
   "cell_type": "code",
   "execution_count": 30,
   "metadata": {},
   "outputs": [
    {
     "name": "stdout",
     "output_type": "stream",
     "text": [
      "training time: 0.239 s\n",
      "SVC(C=1.0, cache_size=200, class_weight=None, coef0=0.0,\n",
      "  decision_function_shape='ovr', degree=3, gamma='scale', kernel='rbf',\n",
      "  max_iter=-1, probability=False, random_state=None, shrinking=True,\n",
      "  tol=0.001, verbose=False)\n",
      "predict time: 0.031 s\n",
      "Classification Report\n",
      "              precision    recall  f1-score   support\n",
      "\n",
      "           0       1.00      1.00      1.00        43\n",
      "           1       1.00      1.00      1.00        37\n",
      "           2       1.00      1.00      1.00        38\n",
      "           3       1.00      0.96      0.98        46\n",
      "           4       1.00      1.00      1.00        55\n",
      "           5       0.95      1.00      0.98        59\n",
      "           6       1.00      0.98      0.99        45\n",
      "           7       0.98      0.98      0.98        41\n",
      "           8       0.97      1.00      0.99        38\n",
      "           9       0.98      0.96      0.97        48\n",
      "\n",
      "   micro avg       0.99      0.99      0.99       450\n",
      "   macro avg       0.99      0.99      0.99       450\n",
      "weighted avg       0.99      0.99      0.99       450\n",
      "\n",
      "Overall Accuray\n",
      "98.66666666666667 %\n"
     ]
    }
   ],
   "source": [
    "model = SVC(gamma='scale')\n",
    "t0=time()\n",
    "model.fit(x_train, y_train)\n",
    "print(\"training time:\", round(time()-t0, 3), \"s\")\n",
    "print(model)\n",
    "\n",
    "t1=time()\n",
    "predictions = model.predict(x_test)\n",
    "print(\"predict time:\", round(time()-t1, 3), \"s\")\n",
    "\n",
    "print(\"Classification Report\")\n",
    "print(classification_report(y_test, predictions))\n",
    "print(\"Overall Accuray\")\n",
    "print(accuracy_score(y_test, predictions)*100,'%')"
   ]
  },
  {
   "cell_type": "code",
   "execution_count": 36,
   "metadata": {},
   "outputs": [
    {
     "name": "stdout",
     "output_type": "stream",
     "text": [
      "training time: 0.001 s\n",
      "SVC(C=1.0, cache_size=200, class_weight=None, coef0=0.0,\n",
      "  decision_function_shape='ovr', degree=3, gamma='auto_deprecated',\n",
      "  kernel='rbf', max_iter=-1, probability=False, random_state=None,\n",
      "  shrinking=True, tol=0.001, verbose=False)\n",
      "predict time: 0.0 s\n",
      "              precision    recall  f1-score   support\n",
      "\n",
      "           0       1.00      1.00      1.00        13\n",
      "           1       1.00      0.94      0.97        16\n",
      "           2       0.90      1.00      0.95         9\n",
      "\n",
      "   micro avg       0.97      0.97      0.97        38\n",
      "   macro avg       0.97      0.98      0.97        38\n",
      "weighted avg       0.98      0.97      0.97        38\n",
      "\n",
      "97.36842105263158 %\n"
     ]
    }
   ],
   "source": [
    "# load the iris datasets\n",
    "load_iris_dataset = datasets.load_iris()\n",
    "X_train, X_test, Y_train, Y_test = train_test_split(load_iris_dataset.data, load_iris_dataset.target, test_size=0.25\n",
    "                                                    , random_state=0)\n",
    "# fit a SVM model to the data\n",
    "model = SVC()\n",
    "t0 = time()\n",
    "model.fit(X_train,Y_train)\n",
    "print(\"training time:\", round(time()-t0, 3), \"s\")\n",
    "print(model)\n",
    "t1 = time()\n",
    "predicted = model.predict(X_test)\n",
    "print(\"predict time:\", round(time()-t1, 3), \"s\")\n",
    "# summarize the fit of the model\n",
    "print(classification_report(Y_test, predicted))\n",
    "print(accuracy_score(Y_test, predicted)*100,'%')"
   ]
  },
  {
   "cell_type": "code",
   "execution_count": 42,
   "metadata": {},
   "outputs": [
    {
     "name": "stdout",
     "output_type": "stream",
     "text": [
      "training time: 0.001 s\n",
      "predict time: 0.0 s\n",
      "Classification Report\n",
      "              precision    recall  f1-score   support\n",
      "\n",
      "           0       0.82      0.88      0.85        16\n",
      "           1       0.79      0.71      0.75        21\n",
      "           2       0.22      0.25      0.24         8\n",
      "\n",
      "   micro avg       0.69      0.69      0.69        45\n",
      "   macro avg       0.61      0.61      0.61        45\n",
      "weighted avg       0.70      0.69      0.69        45\n",
      "\n",
      "Accuracy\n",
      "68.88888888888889 %\n",
      "Confusion Matrix\n",
      "[[14  1  1]\n",
      " [ 0 15  6]\n",
      " [ 3  3  2]]\n",
      "(45, 13)\n"
     ]
    }
   ],
   "source": [
    "\n",
    "load_wine_dataset = datasets.load_wine()\n",
    "X_train, X_test, Y_train, Y_test = train_test_split(load_wine_dataset.data, load_wine_dataset.target, test_size=0.25\n",
    "                                                    , random_state=0)\n",
    "# fit a SVM model to the data\n",
    "model = SVC(gamma=\"scale\")\n",
    "t0 = time()\n",
    "model.fit(X_train,Y_train)\n",
    "print(\"training time:\", round(time()-t0, 3), \"s\")\n",
    "# make predictions\n",
    "expected = dataset.target\n",
    "t1 = time()\n",
    "predicted = model.predict(X_test)\n",
    "print(\"predict time:\", round(time()-t1, 3), \"s\")\n",
    "# summarize the fit of the model\n",
    "print(\"Classification Report\")\n",
    "print(classification_report(Y_test, predicted))\n",
    "print(\"Accuracy\")\n",
    "print(accuracy_score(Y_test, predicted)*100,'%')\n",
    "print(\"Confusion Matrix\")\n",
    "print(confusion_matrix(Y_test, predicted))\n",
    "print(X_test.shape)"
   ]
  },
  {
   "cell_type": "code",
   "execution_count": 39,
   "metadata": {},
   "outputs": [
    {
     "name": "stdout",
     "output_type": "stream",
     "text": [
      "training time: 0.006 s\n",
      "SVC(C=1.0, cache_size=200, class_weight=None, coef0=0.0,\n",
      "  decision_function_shape='ovr', degree=3, gamma='scale', kernel='rbf',\n",
      "  max_iter=-1, probability=False, random_state=None, shrinking=True,\n",
      "  tol=0.001, verbose=False)\n",
      "predict time: 0.002 s\n",
      "              precision    recall  f1-score   support\n",
      "\n",
      "           0       0.94      0.92      0.93        53\n",
      "           1       0.96      0.97      0.96        90\n",
      "\n",
      "   micro avg       0.95      0.95      0.95       143\n",
      "   macro avg       0.95      0.95      0.95       143\n",
      "weighted avg       0.95      0.95      0.95       143\n",
      "\n",
      "95.1048951048951 %\n",
      "[[49  4]\n",
      " [ 3 87]]\n"
     ]
    }
   ],
   "source": [
    "# load the iris datasets\n",
    "dataset_breast_cancer = datasets.load_breast_cancer()\n",
    "X_train, X_test, Y_train, Y_test = train_test_split(dataset_breast_cancer.data, dataset_breast_cancer.target, test_size=0.25\n",
    "                                                    , random_state=0)\n",
    "# fit a SVM model to the data\n",
    "model = SVC(gamma=\"scale\")\n",
    "t0 = time()\n",
    "model.fit(X_train,Y_train)\n",
    "print(\"training time:\", round(time()-t0, 3), \"s\")\n",
    "print(model)\n",
    "# make predictions\n",
    "t1 = time()\n",
    "predicted = model.predict(X_test)\n",
    "print(\"predict time:\", round(time()-t1, 3), \"s\")\n",
    "# summarize the fit of the model\n",
    "print(classification_report(Y_test, predicted))\n",
    "print(accuracy_score(Y_test, predicted)*100,'%')\n",
    "print(confusion_matrix(Y_test, predicted))"
   ]
  },
  {
   "cell_type": "code",
   "execution_count": null,
   "metadata": {},
   "outputs": [],
   "source": []
  }
 ],
 "metadata": {
  "kernelspec": {
   "display_name": "Python 3",
   "language": "python",
   "name": "python3"
  },
  "language_info": {
   "codemirror_mode": {
    "name": "ipython",
    "version": 3
   },
   "file_extension": ".py",
   "mimetype": "text/x-python",
   "name": "python",
   "nbconvert_exporter": "python",
   "pygments_lexer": "ipython3",
   "version": "3.7.0"
  }
 },
 "nbformat": 4,
 "nbformat_minor": 2
}
